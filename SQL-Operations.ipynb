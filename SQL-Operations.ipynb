{
 "cells": [
  {
   "cell_type": "raw",
   "id": "b6e9395c",
   "metadata": {},
   "source": [
    "import sqlite3\n",
    "import pandas as pd\n",
    "\n",
    "# Load the CSV file into a DataFrame\n",
    "data=pd.read_excel(r\"C:\\Users\\Rithika\\Desktop\\Crimes data.xlsx\"))\n",
    "\n",
    "# Connect to the SQLite database\n",
    "conn = sqlite3.connect('your_database.db')\n",
    "cur = conn.cursor()\n",
    "\n",
    "# Create a table (if it doesn't exist already)\n",
    "cur.execute('''CREATE TABLE IF NOT EXISTS crimes_against_women (\n",
    "                District TEXT,\n",
    "                Year INTEGER,\n",
    "                Rape INTEGER,\n",
    "                Kidnapping_Abduction INTEGER,\n",
    "                Dowry_Deaths INTEGER,\n",
    "                Assault_on_women_with_intent_to_outrage_her_modesty INTEGER,\n",
    "                Insult_to_modesty_of_Women INTEGER,\n",
    "                Cruelty_by_Husband_or_his_Relatives INTEGER,\n",
    "                Importation_of_Girls_from_Foreign_Country INTEGER,\n",
    "                Immoral_Traffice_Act INTEGER,\n",
    "                Total_Crimes_Against_Women INTEGER\n",
    "                )''')\n",
    "\n",
    "# Insert records into the table\n",
    "data.to_sql('crimes_against_women', conn, if_exists='append', index=False)\n",
    "\n",
    "# Commit changes and close the connection\n",
    "conn.commit()\n",
    "conn.close()\n"
   ]
  },
  {
   "cell_type": "raw",
   "id": "b5471635",
   "metadata": {},
   "source": [
    "2.SELECT State, District, Year, MAX(Rape) AS Max_Rapes, MAX(Kidnapping_Abduction) AS Max_Kidnappings\n",
    "FROM crimes_against_women\n",
    "GROUP BY State, District, Year\n",
    "ORDER BY Max_Rapes DESC, Max_Kidnappings DESC\n",
    "LIMIT 1;\n"
   ]
  },
  {
   "cell_type": "raw",
   "id": "864819a6",
   "metadata": {},
   "source": [
    "3.SELECT District, MAX(Dacoity_Robbery) AS Max_Dacoity_Robbery\n",
    "FROM crimes_against_women\n",
    "GROUP BY District\n",
    "ORDER BY Max_Dacoity_Robbery DESC\n",
    "LIMIT 1;\n"
   ]
  },
  {
   "cell_type": "raw",
   "id": "ae4a7252",
   "metadata": {},
   "source": [
    "4.SELECT District, MIN(Murder) AS Min_Murders\n",
    "FROM crimes_against_women\n",
    "GROUP BY District\n",
    "ORDER BY Min_Murders ASC;\n"
   ]
  },
  {
   "cell_type": "raw",
   "id": "b9138876",
   "metadata": {},
   "source": [
    "5.SELECT District, Year, Murder\n",
    "FROM crimes_against_women\n",
    "ORDER BY Murder ASC, District ASC, Year ASC;"
   ]
  },
  {
   "cell_type": "raw",
   "id": "02635725",
   "metadata": {},
   "source": [
    "6.import sqlite3\n",
    "import pandas as pd\n",
    "\n",
    "# Load the CSV file into a DataFrame\n",
    "data = pd.read_csv('01_District_wise_crimes_committed_IPC_2001_2012.csv')\n",
    "\n",
    "# Selecting only required columns\n",
    "selected_data = data[['STATE/UT', 'DISTRICT', 'YEAR', 'MURDER', 'ATTEMPT TO MURDER', 'RAPE']]\n",
    "\n",
    "# Connect to the SQLite database\n",
    "conn = sqlite3.connect('your_database.db')\n",
    "cur = conn.cursor()\n",
    "\n",
    "# Create a new table for crimes with selected columns if it doesn't exist already\n",
    "cur.execute('''CREATE TABLE IF NOT EXISTS crimes_selected (\n",
    "                STATE_UT TEXT,\n",
    "                DISTRICT TEXT,\n",
    "                YEAR INTEGER,\n",
    "                MURDER INTEGER,\n",
    "                ATTEMPT_TO_MURDER INTEGER,\n",
    "                RAPE INTEGER\n",
    "                )''')\n",
    "\n",
    "# Insert records into the new table\n",
    "selected_data.to_sql('crimes_selected', conn, if_exists='append', index=False)\n",
    "\n",
    "# Commit changes and close the connection\n",
    "conn.commit()\n",
    "conn.close()\n"
   ]
  },
  {
   "cell_type": "raw",
   "id": "181e5fcc",
   "metadata": {},
   "source": [
    "plt.figure(figsize=(12, 6))\n",
    "for district in districts_appearing_3_years_or_more:\n",
    "    district_data = filtered_df[filtered_df['DISTRICT'] == district]\n",
    "    plt.plot(district_data['YEAR'], district_data['Total_Murders'], label=district)\n",
    "\n",
    "plt.title('Total Murders Over Years for Districts Appearing 3 or More Years')\n",
    "plt.xlabel('Year')\n",
    "plt.ylabel('Total Murders')\n",
    "plt.legend(title='District', loc='upper left', bbox_to_anchor=(1,1))\n",
    "plt.show()\n",
    "\n",
    "# Close the connection\n",
    "conn.close()"
   ]
  }
 ],
 "metadata": {
  "kernelspec": {
   "display_name": "Python 3 (ipykernel)",
   "language": "python",
   "name": "python3"
  },
  "language_info": {
   "codemirror_mode": {
    "name": "ipython",
    "version": 3
   },
   "file_extension": ".py",
   "mimetype": "text/x-python",
   "name": "python",
   "nbconvert_exporter": "python",
   "pygments_lexer": "ipython3",
   "version": "3.10.9"
  }
 },
 "nbformat": 4,
 "nbformat_minor": 5
}
